{
  "nbformat": 4,
  "nbformat_minor": 0,
  "metadata": {
    "colab": {
      "name": "Opencourseware_tests[1-3]",
      "provenance": [],
      "collapsed_sections": []
    },
    "kernelspec": {
      "name": "python3",
      "display_name": "Python 3"
    },
    "language_info": {
      "name": "python"
    }
  },
  "cells": [
    {
      "cell_type": "code",
      "source": [
        "def intersect(x,y):\n",
        "  z = []\n",
        "  for i,j in zip(x,y):\n",
        "    if i == j :\n",
        "      z.append(i)\n",
        "  fz = []\n",
        "  for k in z:\n",
        "    if not(k in fz):\n",
        "      fz.append(k)\n",
        "  return fz"
      ],
      "metadata": {
        "id": "AFRR-y1dj0pR"
      },
      "execution_count": null,
      "outputs": []
    },
    {
      "cell_type": "code",
      "source": [
        "z = [1]\n",
        "z"
      ],
      "metadata": {
        "id": "YUUHOlWakzxg"
      },
      "execution_count": null,
      "outputs": []
    },
    {
      "cell_type": "code",
      "source": [
        "def gen_subsets(L):\n",
        "  if len(L) ==0:\n",
        "    return [[]]\n",
        "  smaller = gen_subsets(L[:-1])\n",
        "  extra = L[-1:]\n",
        "  new = []\n",
        "  for small in smaller :\n",
        "    new.append(small + extra )\n",
        "  return smaller + new "
      ],
      "metadata": {
        "id": "uuyuVro8k4NF"
      },
      "execution_count": null,
      "outputs": []
    },
    {
      "cell_type": "code",
      "source": [
        "extra = [7]\n",
        "small = [3 , 4]\n",
        "new =[]\n",
        "for s in small:\n",
        "  Z = [s]\n",
        "  new.append(Z + extra)\n",
        "new"
      ],
      "metadata": {
        "id": "zkkGqblNlHZp"
      },
      "execution_count": null,
      "outputs": []
    },
    {
      "cell_type": "code",
      "source": [
        "def gen_subsets(L):\n",
        "  if len(L) ==0:\n",
        "    return [[]]\n",
        "  smaller = gen_subsets(L[:-1])"
      ],
      "metadata": {
        "id": "gLM11AhoJIWG"
      },
      "execution_count": null,
      "outputs": []
    },
    {
      "cell_type": "code",
      "source": [
        "gen_subsets([])"
      ],
      "metadata": {
        "id": "tuXvBQ2UL-uu"
      },
      "execution_count": null,
      "outputs": []
    },
    {
      "cell_type": "code",
      "source": [
        "Z= L[-1:]\n",
        "Z"
      ],
      "metadata": {
        "id": "bWbJidklMFrW"
      },
      "execution_count": null,
      "outputs": []
    },
    {
      "cell_type": "code",
      "source": [
        "def gen_subsets(L):\n",
        "  if len(L)==0:\n",
        "    return [[]]\n",
        "  smaller = gen_subsets(L[:-1])\n",
        "  extra = L[-1:]\n",
        "  new = []\n",
        "  for small in smaller:\n",
        "    new.append(small + extra )\n",
        "  return smaller + new"
      ],
      "metadata": {
        "id": "jPYwz11zdVAu"
      },
      "execution_count": null,
      "outputs": []
    },
    {
      "cell_type": "code",
      "source": [
        "def fib_iter(n):\n",
        "   if n == 0: \n",
        "     return 0 \n",
        "   elif n == 1:\n",
        "     return 1 \n",
        "   else:\n",
        "     fib_i = 0\n",
        "     fib_ii = 1\n",
        "     for i in range(n-1):\n",
        "       tmp = fib_i\n",
        "       fib_i = fib_ii\n",
        "       fib_ii = tmp + fib_ii\n",
        "     return fib_ii"
      ],
      "metadata": {
        "id": "5x1fideQdtRZ"
      },
      "execution_count": null,
      "outputs": []
    },
    {
      "cell_type": "code",
      "source": [
        "fib_iter(5)"
      ],
      "metadata": {
        "id": "KRnFYV13s_7S"
      },
      "execution_count": null,
      "outputs": []
    },
    {
      "cell_type": "code",
      "source": [
        "def fib(n):\n",
        "  if n==0:\n",
        "    return 0\n",
        "  elif n ==1:\n",
        "    return 1\n",
        "  else:\n",
        "    i = 0\n",
        "    j = 1\n",
        "    for i in range(n-1):\n",
        "      tmp = i\n",
        "      i = j\n",
        "      j = tmp + i\n",
        "    return j\n",
        "\n"
      ],
      "metadata": {
        "id": "hhm7ooRjkjxs"
      },
      "execution_count": null,
      "outputs": []
    },
    {
      "cell_type": "code",
      "source": [
        "def bubble_sort(list):\n",
        "  swap = False\n",
        "  while not swap:\n",
        "    print(str(list))\n",
        "    swap = True\n",
        "    for i in range(1,len(list)):\n",
        "      if list[i-1]>list[i]:\n",
        "        swap = False\n",
        "        temp = list[i]\n",
        "        list[i] = list[i - 1]\n",
        "        list[i - 1] = temp\n"
      ],
      "metadata": {
        "id": "sicdzAKPoiIt"
      },
      "execution_count": null,
      "outputs": []
    },
    {
      "cell_type": "code",
      "source": [
        "bubble_sort([4,3,6,2,8])"
      ],
      "metadata": {
        "id": "ZprekTnGIwr4"
      },
      "execution_count": null,
      "outputs": []
    },
    {
      "cell_type": "code",
      "source": [
        "bubble_sort([1,1,645,602,652,6,4,654,8,56,84,98544,64,68,6])"
      ],
      "metadata": {
        "id": "xNNiOAnyoyRZ"
      },
      "execution_count": null,
      "outputs": []
    },
    {
      "cell_type": "code",
      "source": [
        ""
      ],
      "metadata": {
        "id": "E5SFRJe3oyjq"
      },
      "execution_count": null,
      "outputs": []
    },
    {
      "cell_type": "code",
      "source": [
        "test = [316,16,565,16,3,54,6,654165,465,1,54]"
      ],
      "metadata": {
        "id": "SwKi9VXPfhMl"
      },
      "execution_count": null,
      "outputs": []
    },
    {
      "cell_type": "code",
      "source": [
        "selection_sort(test)\n",
        " "
      ],
      "metadata": {
        "id": "e5ft8T4Lflk_"
      },
      "execution_count": null,
      "outputs": []
    },
    {
      "cell_type": "code",
      "source": [
        "def selection_sort(L):\n",
        "  suffix = 0\n",
        "  while suffix != len(L):\n",
        "    print(str(L))\n",
        "    for i in range(suffix,len(L)):\n",
        "      if L[suffix]>L[i]:\n",
        "        L[suffix],L[i]=L[i],L[suffix]\n",
        "    suffix = suffix + 1\n",
        "  "
      ],
      "metadata": {
        "id": "Oq54G1CigXk1"
      },
      "execution_count": null,
      "outputs": []
    },
    {
      "cell_type": "code",
      "source": [
        "def selection_sort(L):\n",
        "    suffixSt = 0\n",
        "    while suffixSt != len(L):\n",
        "        print('selection sort: ' + str(L))\n",
        "        for i in range(suffixSt, len(L)):\n",
        "            if L[i] < L[suffixSt]:\n",
        "                L[suffixSt], L[i] = L[i], L[suffixSt]\n",
        "        suffixSt += 1\n",
        " \n",
        "testList = [1,3,5,7,2,6,25,18,13]\n",
        "       \n",
        "print('')\n",
        "print(selection_sort(testList))\n",
        "print(testList)"
      ],
      "metadata": {
        "id": "4b-kD1HzDI_7"
      },
      "execution_count": null,
      "outputs": []
    },
    {
      "cell_type": "code",
      "source": [
        "def merge(left, right):\n",
        "    result = []\n",
        "    i,j = 0,0\n",
        "    while i < len(left) and j < len(right):\n",
        "        if left[i] < right[j]:\n",
        "            result.append(left[i])\n",
        "            i += 1\n",
        "        else:\n",
        "            result.append(right[j])\n",
        "            j += 1\n",
        "    while (i < len(left)):\n",
        "        result.append(left[i])\n",
        "        i += 1\n",
        "    while (j < len(right)):\n",
        "        result.append(right[j])\n",
        "        j += 1\n",
        "    print('merge: ' + str(left) + '&' + str(right) + ' to ' +str(result))\n",
        "    return result\n",
        "\n",
        "def merge_sort(L):\n",
        "    print('merge sort: ' + str(L))\n",
        "    if len(L) < 2:\n",
        "        return L[:]\n",
        "    else:\n",
        "        middle = len(L)//2\n",
        "        left = merge_sort(L[:middle])\n",
        "        right = merge_sort(L[middle:])\n",
        "        return merge(left, right)\n",
        "        \n",
        "testList = [1,3,5,7,2,6,25,18,13]\n",
        "\n",
        "#print('')\n",
        "#print(merge_sort(testList))\n",
        "\n"
      ],
      "metadata": {
        "id": "GwsfrEnmGqEH"
      },
      "execution_count": null,
      "outputs": []
    },
    {
      "cell_type": "code",
      "source": [
        "merge([3151,2],[98794,6546461])"
      ],
      "metadata": {
        "id": "QItbS9QVKs6R"
      },
      "execution_count": null,
      "outputs": []
    },
    {
      "cell_type": "code",
      "source": [
        "def merge(left,right):\n",
        "  result =[]\n",
        "  i,j = 0,0\n",
        "  while i <len(left) and j<len(right):\n",
        "    if left[i]<right[j]:\n",
        "      result.append(left[i])\n",
        "      i = i +1\n",
        "    else:\n",
        "      result.append(right[j])\n",
        "      j = j + 1\n",
        "  while i < len(left):\n",
        "    result.append(left[i])\n",
        "    i = i +1\n",
        "  while j<len(right):\n",
        "    result.append(right[j])\n",
        "    j = j +1\n",
        "  print('merge'+str(left)+\" \"+str(right) + \" to \" +  str(result))\n",
        "  return result\n"
      ],
      "metadata": {
        "id": "1HY5I2JALEEc"
      },
      "execution_count": null,
      "outputs": []
    },
    {
      "cell_type": "code",
      "source": [
        "def merge_sort(list):\n",
        "  if len(list) < 2:\n",
        "    return list\n",
        "  else:\n",
        "    mid = len(list)//2\n",
        "    left = merge_sort(list[:mid])\n",
        "    right = merge_sort(list[mid:])\n",
        "    return merge(left,right)"
      ],
      "metadata": {
        "id": "OcwVjDxosReQ"
      },
      "execution_count": null,
      "outputs": []
    },
    {
      "cell_type": "code",
      "source": [
        "list = [65,654,625,54,654,8949,5,419,85]\n",
        "merge_sort(list)"
      ],
      "metadata": {
        "id": "ZqB_wnQcskr9"
      },
      "execution_count": null,
      "outputs": []
    },
    {
      "cell_type": "code",
      "source": [
        "annual_salary = float(input(\" Enter annual salary \"))\n",
        "monthly_salary  = annual_salary/12\n",
        "portion_of_monthly_salary_saved = float(input(\"portion of monthly salary saved\"))\n",
        "portion_saved = monthly_salary * portion_of_monthly_salary_saved\n",
        "total_cost = float(input(\"Total cost of home \"))\n",
        "semi_annual_raise = float(input(\"Enter semi annual raise\"))\n",
        "down_payment = total_cost * 0.25\n",
        "r = 0.04\n",
        "current_savings = 0\n",
        "mon_returns = current_savings * r/12\n",
        "months = 0\n",
        "while (current_savings < down_payment):\n",
        "   current_savings += (current_savings*r/12) + portion_saved\n",
        "   months = months +1\n",
        "   if months % 6 ==0:\n",
        "     annual_salary += annual_salary * semi_annual_raise\n",
        "     monthly_salary = annual_salary/12\n",
        "     portion_saved = monthly_salary * portion_of_monthly_salary_saved\n",
        "     current_savings += (current_savings*r/12) + portion_saved\n",
        "     months += 1\n",
        "  \n",
        "    \n",
        "print(months)"
      ],
      "metadata": {
        "id": "b4aOeijoiZKf"
      },
      "execution_count": null,
      "outputs": []
    },
    {
      "cell_type": "code",
      "source": [
        "5"
      ],
      "metadata": {
        "id": "0ATbXnjzmebY"
      },
      "execution_count": null,
      "outputs": []
    },
    {
      "cell_type": "code",
      "source": [
        "square = 36\n",
        "epsilon = 0.01\n",
        "num = 0\n",
        "low = 0\n",
        "high = 10\n",
        "guess = (high  + low)/2.0\n",
        "while abs(guess**2 - square) >= epsilon:\n",
        "  if guess**2 < square:\n",
        "     "
      ],
      "metadata": {
        "id": "gf1c2oRs3-eJ"
      },
      "execution_count": null,
      "outputs": []
    },
    {
      "cell_type": "code",
      "source": [
        "cube = 25\n",
        "epsilon = 0.01\n",
        "num_guesses = 0\n",
        "low = 0\n",
        "high = cube\n",
        "guess = (high + low)/2.0\n",
        "while abs(guess**2 - cube) >= epsilon:\n",
        "    if guess**2 < cube:\n",
        "        # look only in upper half search space\n",
        "        low = guess\n",
        "    else:\n",
        "        # look only in lower half search space\n",
        "        high = guess\n",
        "    # next guess is halfway in search space\n",
        "    guess = (high + low)/2.0\n",
        "    num_guesses += 1\n",
        "print('num_guesses =', num_guesses)\n",
        "print(guess, 'is close to the cube root of', cube)"
      ],
      "metadata": {
        "id": "2JBBqJwkBIlr"
      },
      "execution_count": null,
      "outputs": []
    },
    {
      "cell_type": "code",
      "source": [
        "0.5/2"
      ],
      "metadata": {
        "id": "R9mNRzoEBKI7"
      },
      "execution_count": null,
      "outputs": []
    },
    {
      "cell_type": "code",
      "source": [
        "0.25/2"
      ],
      "metadata": {
        "id": "RzKzsH-eBLgT"
      },
      "execution_count": null,
      "outputs": []
    },
    {
      "cell_type": "code",
      "source": [
        "0.125/2"
      ],
      "metadata": {
        "id": "TsOnyKmPBNgF"
      },
      "execution_count": null,
      "outputs": []
    },
    {
      "cell_type": "code",
      "source": [
        "0.0625/2"
      ],
      "metadata": {
        "id": "ztUtgd1bBTRh"
      },
      "execution_count": null,
      "outputs": []
    },
    {
      "cell_type": "code",
      "source": [
        "results = []\n",
        "for i in range(0 , 10001):\n",
        "  results.append(i/10000)\n",
        "print(results)"
      ],
      "metadata": {
        "id": "1ycEa900BWLy"
      },
      "execution_count": null,
      "outputs": []
    },
    {
      "cell_type": "code",
      "source": [
        "cube = 27\n",
        "##cube = 8120601\n",
        "## won't work with x < 1 because initial upper bound is less than ans\n",
        "##cube = 0.25\n",
        "epsilon = 0.01\n",
        "num_guesses = 0\n",
        "low = 0\n",
        "high = cube\n",
        "guess = (high + low)/2.0\n",
        "while abs(guess**3 - cube) >= epsilon:\n",
        "    if guess**3 < cube:\n",
        "        # look only in upper half search space\n",
        "        low = guess\n",
        "    else:\n",
        "        # look only in lower half search space\n",
        "        high = guess\n",
        "    # next guess is halfway in search space\n",
        "    guess = (high + low)/2.0\n",
        "    num_guesses += 1\n",
        "print('num_guesses =', num_guesses)\n",
        "print(guess)"
      ],
      "metadata": {
        "id": "BDIamVAUCGCV"
      },
      "execution_count": null,
      "outputs": []
    },
    {
      "cell_type": "code",
      "source": [
        "annual_salary = float(input('Enter your annual salary: '))\n",
        "semi_annual_raise = 0.07\n",
        "r = 0.04\n",
        "portion_down_payment = 0.25\n",
        "total_cost = 1000000\n",
        "steps = 0\n",
        "current_savings = 0\n",
        "low = 0\n",
        "high = 10000\n",
        "guess_rate = (high + low)//2\n",
        "# Use a while loop since we check UNTIL something happens.\n",
        "while abs(current_savings - total_cost*portion_down_payment) >= 100:\n",
        "    # Reset current_savings at the beginning of the loop\n",
        "    current_savings = 0\n",
        "    # Create a new variable for use within the for loop.\n",
        "    for_annual_salary = annual_salary\n",
        "    # convert guess_rate into a float\n",
        "    rate = guess_rate/10000\n",
        "    # Since we have a finite number of months, use a for loop to calculate\n",
        "    # amount saved in that time.`enter code here`\n",
        "    for month in range(36):\n",
        "        # With indexing starting a zero, we need to calculate at the beginning\n",
        "        # of the loop.\n",
        "        if month % 6 == 0 and month > 0:\n",
        "            for_annual_salary += for_annual_salary*semi_annual_raise\n",
        "        # Set monthly_salary inside loop where annual_salary is modified\n",
        "        monthly_salary = for_annual_salary/12\n",
        "        # Calculate current savings\n",
        "        current_savings += monthly_salary*rate+current_savings*r/12\n",
        "    # The statement that makes this a bisection search\n",
        "    if current_savings < total_cost*portion_down_payment:\n",
        "        low = guess_rate\n",
        "    else:\n",
        "        high = guess_rate\n",
        "    guess_rate = (high + low)//2\n",
        "    steps += 1\n",
        "    # The max amount of guesses needed is log base 2 of 10000 which is slightly\n",
        "    # above 13. Once it gets to the 14th guess it breaks out of the while loop.\n",
        "    if steps > 13:\n",
        "        break\n",
        "\n",
        "# output\n",
        "if steps > 13:\n",
        "    print('It is not possible to pay the down payment in three years.')\n",
        "else:\n",
        "    print('Best savings rate:', rate)\n",
        "    print('Steps in bisection search:', steps)"
      ],
      "metadata": {
        "id": "vJHWD6MaF9Fq"
      },
      "execution_count": null,
      "outputs": []
    },
    {
      "cell_type": "code",
      "source": [
        "while abs(current_savings - total_cost*portion_down_payment) >= 100:\n",
        "    current_savings = 0\n",
        "    for_annual_salary = annual_salary\n",
        "    rate = guess_rate/10000\n",
        "    for month in range(36):\n",
        "        if month % 6 == 0 and month > 0:\n",
        "            for_annual_salary += for_annual_salary*semi_annual_raise\n",
        "        monthly_salary = for_annual_salary/12\n",
        "        current_savings += monthly_salary*rate+current_savings*r/12\n",
        "    if current_savings < total_cost*portion_down_payment:\n",
        "        low = guess_rate\n",
        "    else:\n",
        "        high = guess_rate\n",
        "    guess_rate = (high + low)//2\n",
        "    steps += 1\n",
        "    if steps > 13:\n",
        "        break"
      ],
      "metadata": {
        "id": "0_yqE3yYOHTL",
        "cellView": "code"
      },
      "execution_count": null,
      "outputs": []
    },
    {
      "cell_type": "code",
      "source": [
        ""
      ],
      "metadata": {
        "id": "4sXFIlZawFUG"
      },
      "execution_count": null,
      "outputs": []
    },
    {
      "cell_type": "code",
      "source": [
        "def is_it_there(s,l):\n",
        "  if len(l) ==0:\n",
        "    return True\n",
        "  else:\n",
        "    return l[0] in s and is_it_there(s,l[1:])"
      ],
      "metadata": {
        "id": "8NO6FO9wOGl2"
      },
      "execution_count": null,
      "outputs": []
    },
    {
      "cell_type": "code",
      "source": [
        "is_it_there('paris',['z'])"
      ],
      "metadata": {
        "id": "_4LThHS1ev6N"
      },
      "execution_count": null,
      "outputs": []
    },
    {
      "cell_type": "code",
      "source": [
        "secretword = 'apple'\n",
        "lettersGuessed = ['e', 'p', 'a', 'p', 'l', 'a']\n",
        "Uni(secretword)\n",
        "def presence(list,letters_guessed):\n",
        "  if len(list)==0:\n",
        "    return True\n",
        "  else:\n",
        "    return list[0] in letters_guessed and presence(list[1 :])\n"
      ],
      "metadata": {
        "id": "ykd1q0n85cGp"
      },
      "execution_count": null,
      "outputs": []
    },
    {
      "cell_type": "code",
      "source": [
        "list_convert(secretword)"
      ],
      "metadata": {
        "id": "mxRUIIiOZqTQ"
      },
      "execution_count": null,
      "outputs": []
    },
    {
      "cell_type": "code",
      "source": [
        "is_it_there(secretword,['a','p'])"
      ],
      "metadata": {
        "id": "zJZ-6hp_RdwG"
      },
      "execution_count": null,
      "outputs": []
    },
    {
      "cell_type": "code",
      "source": [
        "isWordGuessed(secretword,lettersGuessed)"
      ],
      "metadata": {
        "id": "clIsV4Lj6L7A"
      },
      "execution_count": null,
      "outputs": []
    },
    {
      "cell_type": "code",
      "source": [
        "secretword = 'apple'\n",
        "lettersGuessed = ['e', 'i', 'k', 'p', 'r', 's']\n",
        "def getGuessedWord(secret,list):\n",
        "  S = ''\n",
        "  for i in secret:\n",
        "    if i in list:\n",
        "      S += i\n",
        "    else:\n",
        "      S+= \"_ \"\n",
        "  return S \n"
      ],
      "metadata": {
        "id": "mCYQTjQh6X5v"
      },
      "execution_count": null,
      "outputs": []
    },
    {
      "cell_type": "code",
      "source": [
        ""
      ],
      "metadata": {
        "id": "-PxtT4V1HaHg"
      },
      "execution_count": null,
      "outputs": []
    },
    {
      "cell_type": "code",
      "source": [
        "import string\n",
        "print(string.ascii_lowercase)"
      ],
      "metadata": {
        "id": "hkDndyg6PlVM"
      },
      "execution_count": null,
      "outputs": []
    },
    {
      "cell_type": "code",
      "source": [
        "def get_available_letters(list):\n",
        "  qwerty = 'abcdefghijklmnopqrstuvwxyz'\n",
        "  s=''\n",
        "  for i in qwerty:\n",
        "    if not i in list:\n",
        "      s += i\n",
        "  return s\n"
      ],
      "metadata": {
        "id": "xTQI1auTSAAq"
      },
      "execution_count": null,
      "outputs": []
    },
    {
      "cell_type": "code",
      "source": [
        ""
      ],
      "metadata": {
        "id": "fOl-kHrmSQu_"
      },
      "execution_count": null,
      "outputs": []
    },
    {
      "cell_type": "code",
      "source": [
        "letters_guessed = ['e', 'i', 'k', 'p', 'r', 's'] \n",
        "\n",
        "get_available_letters(letters_guessed)"
      ],
      "metadata": {
        "id": "XNBbcXiFUBiC"
      },
      "execution_count": null,
      "outputs": []
    },
    {
      "cell_type": "code",
      "source": [
        "import string, random\n",
        "\n",
        "words = 'cuffs cuing culls cults cumin cupel cupid curbs curds cures panel pangs panic pansy pants papas papal papaw paper parch pards pared pares paris parks parka parry parse parts parte party pasha salaam salads salami salary saline saliva sallow salmon salons saloon salted saluki salute salved salver salves salvia salvos samara sambas samoan sampan sample sancta sanded sander sandal sanest sanity sansei santas  scabby scaled scales scalar scalds scalps scamps scampi scants scanty scared scares bigamy bigger bights bigots bigwig bijoux bikers biking bikini bilged bilges bilked billed billet billow binary binder binges bingos biomes biopsy biotic biotas biotin bipeds birdie births bisect bishop bisque melodies melodeon meltable meltdown membrane mementos memories memorial memoriam memorize menacing menhaden meninges meniscal meniscus mentally menthols mentions mephitic mephitis merchant merciful mercuric meridian tenanting tendering tenderize tenements tenebrous tennessee tenseness tensility tentacles tentative tentmaker tenuously teriyakis termagant terminals terminate terracing terrapins terrarium terrazzos redeposits redescribe redesigned redevelops redigested redirected rediscover redissolve redistrict'\n",
        "\n",
        "wordlist = words.split()"
      ],
      "metadata": {
        "id": "e7J9HpAVe3bV"
      },
      "execution_count": null,
      "outputs": []
    },
    {
      "cell_type": "code",
      "source": [
        "type(wordlist)"
      ],
      "metadata": {
        "id": "cyCKYPLphXy0"
      },
      "execution_count": null,
      "outputs": []
    },
    {
      "cell_type": "code",
      "source": [
        " def match_with_gaps(my_word,other_word):\n",
        "    z = my_word\n",
        "    z = z.replace(\" \", \"\")\n",
        "    result = False\n",
        "    list = []\n",
        "    if not len(z)==len(other_word):\n",
        "      return result\n",
        "    else:\n",
        "      for i,j in zip(z,other_word):\n",
        "        if i in 'qwertyuiopasdfghjklzxcvbnm' and i == j:\n",
        "          list.append(1)\n",
        "        if i in 'qwertyuiopasdfghjklzxcvbnm' and i!=j:\n",
        "          list.append(0)\n",
        "        if 0 in list:\n",
        "          result =False\n",
        "        else:\n",
        "          result = True\n",
        "    return result"
      ],
      "metadata": {
        "id": "lFyCFinPhib2"
      },
      "execution_count": null,
      "outputs": []
    },
    {
      "cell_type": "code",
      "source": [
        "Words = ['prem','apexa']\n",
        "list = []\n",
        "for word in Words:\n",
        "  if match_with_gaps('pr_ m ',word) is True:\n",
        "    list.append(word)\n",
        "list\n"
      ],
      "metadata": {
        "id": "rAwCWsEulxDO"
      },
      "execution_count": null,
      "outputs": []
    },
    {
      "cell_type": "code",
      "source": [
        ""
      ],
      "metadata": {
        "id": "4zmO0ovSlUTj"
      },
      "execution_count": null,
      "outputs": []
    },
    {
      "cell_type": "code",
      "source": [
        "state('sc_ nt_ ')"
      ],
      "metadata": {
        "id": "0hfU5NafmWVS"
      },
      "execution_count": null,
      "outputs": []
    },
    {
      "cell_type": "code",
      "source": [
        "def choose_word(wordlist):\n",
        "  return random.choice(wordlist)\n"
      ],
      "metadata": {
        "id": "Jjz1Wt-ffEb6"
      },
      "execution_count": null,
      "outputs": []
    },
    {
      "cell_type": "code",
      "source": [
        "secret = choose_word(wordlist)"
      ],
      "metadata": {
        "id": "lOqHs7n6ieOX"
      },
      "execution_count": null,
      "outputs": []
    },
    {
      "cell_type": "code",
      "source": [
        "secret"
      ],
      "metadata": {
        "id": "aCnTaYRXmlgs"
      },
      "execution_count": null,
      "outputs": []
    },
    {
      "cell_type": "code",
      "source": [
        "z =  state()\n",
        "type(z)"
      ],
      "metadata": {
        "id": "Q4Q_nHKykJLZ"
      },
      "execution_count": null,
      "outputs": []
    },
    {
      "cell_type": "code",
      "source": [
        " def hangman(secret):\n",
        "  print('welcome to the game')\n",
        "  print( 'I have guessed a ' +str(len(secret)) + ' letter word ')\n",
        "  print(\"You have 6 tries left \" + 'and 3 warnings left')\n",
        "  print(\"Letters to choose from :abcdefghijklmnopqrstuvwxyz\")\n",
        "  def state(my_word):\n",
        "    result = []\n",
        "    for word in wordlist:\n",
        "      if match_with_gaps(my_word,word) is True:\n",
        "        result.append(word)\n",
        "    return result\n",
        "  def match_with_gaps(my_word,other_word):\n",
        "    z = my_word\n",
        "    z = z.replace(\" \", \"\")\n",
        "    result = False\n",
        "    list = []\n",
        "    if not len(z)==len(other_word):\n",
        "      return result\n",
        "    else:\n",
        "      for i,j in zip(z,other_word):\n",
        "        if i in 'qwertyuiopasdfghjklzxcvbnm' and i == j:\n",
        "          list.append(1)\n",
        "        if i in 'qwertyuiopasdfghjklzxcvbnm' and i!=j:\n",
        "          list.append(0)\n",
        "        if 0 in list:\n",
        "          result =False\n",
        "        else:\n",
        "          result = True\n",
        "    return result\n",
        "  def Uni(string):\n",
        "    r = []\n",
        "    for i in string:\n",
        "      if not i in r:\n",
        "        r.append(i)\n",
        "    return r\n",
        "  def is_it_there(s,l):\n",
        "    if len(l) ==0:\n",
        "      return True\n",
        "    else:\n",
        "      return l[0] in s and is_it_there(s,l[1:])\n",
        "  def getGuessedWord(secret,list):\n",
        "    S = ''\n",
        "    for i in secret:\n",
        "      if i in list:\n",
        "        S += i\n",
        "      else:\n",
        "        S+= \"_ \"\n",
        "    return S \n",
        "  def get_available_letters(list):\n",
        "    qwerty = 'abcdefghijklmnopqrstuvwxyz'\n",
        "    s=''\n",
        "    for i in qwerty:\n",
        "      if not i in list:\n",
        "        s += i\n",
        "    return s\n",
        "  def presence(Uniq,letters_guessed):\n",
        "    if len(Uniq)==0:\n",
        "      return True\n",
        "    else:\n",
        "      return Uniq[0] in letters_guessed and presence(Uniq[1:],letters_guessed)\n",
        "  \n",
        "  number_of_tries = 0\n",
        "  letters_guessed= []\n",
        "  wrong = []\n",
        "  number_of_warnings  = 0 \n",
        "  while number_of_tries < 6 :\n",
        "    guess = input('Enter guess letter ')\n",
        "    string = guess.isalpha()\n",
        "    if not string:\n",
        "      number_of_warnings += 1 \n",
        "      print(\"Please enter valid input\")\n",
        "      if number_of_warnings >= 3 :\n",
        "        number_of_tries += 1 \n",
        "        print(\"0 warnings left\")\n",
        "      else:\n",
        "        print('number of warning left :' + str(3-number_of_warnings))\n",
        "    else:\n",
        "      guess = guess.lower()\n",
        "      if guess in letters_guessed:\n",
        "        number_of_warnings +=1\n",
        "        if number_of_warnings >=3:\n",
        "          number_of_tries += 1\n",
        "          print(\" Already been inserted , you now have 0 warning  left \")\n",
        "        else:\n",
        "          print(\"You now have \" + str(3 - number_of_warnings) + ' warnings left ')\n",
        "      else:\n",
        "        if guess in 'aeiou':\n",
        "          letters_guessed.append(guess)\n",
        "          if not is_it_there(secret,guess):\n",
        "            number_of_tries+=2\n",
        "            print(\"Bad Guess\")\n",
        "            print(getGuessedWord(secret,letters_guessed))\n",
        "          else:\n",
        "            number_of_tries += 1\n",
        "            print('Good Guess ')\n",
        "            print(getGuessedWord(secret,letters_guessed))\n",
        "        else:\n",
        "          number_of_tries +=1\n",
        "          if not is_it_there(secret,guess):\n",
        "            print(\"Bad Guess\")\n",
        "            letters_guessed.append(guess)\n",
        "            print(getGuessedWord(secret,letters_guessed))\n",
        "          else:\n",
        "            print('Good Guess ')\n",
        "            letters_guessed.append(guess)\n",
        "            print(getGuessedWord(secret,letters_guessed))\n",
        "    Uniq = Uni(secret)\n",
        "    if presence(Uniq,letters_guessed):\n",
        "      break\n",
        "    print('Letters to choose from ' + str(get_available_letters(letters_guessed)))\n",
        "    print('------------------------')\n",
        "    print('You now have ' + str(6 - number_of_tries) + ' tries left')\n",
        "  if presence(Uniq,letters_guessed):\n",
        "    print(\"congratulations you won \")\n",
        "    x = len(Uni(secret))\n",
        "    y = 6 - number_of_tries\n",
        "    score = x * y\n",
        "    print(\"score \" + str(score))\n",
        "  else:\n",
        "    print(\" Unfortunately u ran out of tries \")\n",
        "    print(\"The word i guess was \" + str(secret))"
      ],
      "metadata": {
        "id": "zoYE-2LDfjUx"
      },
      "execution_count": null,
      "outputs": []
    },
    {
      "cell_type": "code",
      "source": [
        " def hangman_with_hints(secret):\n",
        "  print('welcome to the game')\n",
        "  print( 'I have guessed a ' +str(len(secret)) + ' letter word ')\n",
        "  print(\"You have 6 tries left \" + 'and 3 warnings left')\n",
        "  print(\"Letters to choose from :abcdefghijklmnopqrstuvwxyz\")\n",
        "  def state(my_word):\n",
        "    result = []\n",
        "    for word in wordlist:\n",
        "      if match_with_gaps(my_word,word) is True:\n",
        "        result.append(word)\n",
        "    return result\n",
        "  def match_with_gaps(my_word,other_word):\n",
        "    z = my_word\n",
        "    z = z.replace(\" \", \"\")\n",
        "    result = False\n",
        "    list = []\n",
        "    if not len(z)==len(other_word):\n",
        "      return result\n",
        "    else:\n",
        "      for i,j in zip(z,other_word):\n",
        "        if i in 'qwertyuiopasdfghjklzxcvbnm' and i == j:\n",
        "          list.append(1)\n",
        "        if i in 'qwertyuiopasdfghjklzxcvbnm' and i!=j:\n",
        "          list.append(0)\n",
        "        if 0 in list:\n",
        "          result =False\n",
        "        else:\n",
        "          result = True\n",
        "    return result\n",
        "  def Uni(string):\n",
        "    r = []\n",
        "    for i in string:\n",
        "      if not i in r:\n",
        "        r.append(i)\n",
        "    return r\n",
        "  def is_it_there(s,l):\n",
        "    if len(l) ==0:\n",
        "      return True\n",
        "    else:\n",
        "      return l[0] in s and is_it_there(s,l[1:])\n",
        "  def getGuessedWord(secret,list):\n",
        "    S = ''\n",
        "    for i in secret:\n",
        "      if i in list:\n",
        "        S += i\n",
        "      else:\n",
        "        S+= \"_ \"\n",
        "    return S \n",
        "  def get_available_letters(list):\n",
        "    qwerty = 'abcdefghijklmnopqrstuvwxyz'\n",
        "    s=''\n",
        "    for i in qwerty:\n",
        "      if not i in list:\n",
        "        s += i\n",
        "    return s\n",
        "  def presence(Uniq,letters_guessed):\n",
        "    if len(Uniq)==0:\n",
        "      return True\n",
        "    else:\n",
        "      return Uniq[0] in letters_guessed and presence(Uniq[1:],letters_guessed)\n",
        "  \n",
        "  number_of_tries = 0\n",
        "  letters_guessed= []\n",
        "  wrong = []\n",
        "  number_of_warnings  = 0 \n",
        "  while number_of_tries < 6:\n",
        "    guess = input('Enter guess letter ')\n",
        "    if guess =='*':\n",
        "      z = getGuessedWord(secret,letters_guessed)\n",
        "      print(state(z))\n",
        "    else:\n",
        "      string = guess.isalpha()\n",
        "      if not string:\n",
        "        number_of_warnings += 1 \n",
        "        print(\"Please enter valid input\")\n",
        "        if number_of_warnings >= 3 :\n",
        "          number_of_tries += 1 \n",
        "          print(\"0 warnings left\")\n",
        "        else:\n",
        "          print('number of warning left :' + str(3-number_of_warnings))\n",
        "      else:\n",
        "        guess = guess.lower()\n",
        "        if guess in letters_guessed:\n",
        "          number_of_warnings +=1\n",
        "          if number_of_warnings >=3:\n",
        "            number_of_tries += 1\n",
        "            print(\" Already been inserted , you now have 0 warning  left \")\n",
        "          else:\n",
        "            print(\"You now have \" + str(3 - number_of_warnings) + ' warnings left ')\n",
        "        else:\n",
        "          if guess in 'aeiou':\n",
        "            letters_guessed.append(guess)\n",
        "            if not is_it_there(secret,guess):\n",
        "              number_of_tries+=2\n",
        "              print(\"Bad Guess\")\n",
        "              print(getGuessedWord(secret,letters_guessed))\n",
        "            else:\n",
        "              number_of_tries += 1\n",
        "              print('Good Guess ')\n",
        "              print(getGuessedWord(secret,letters_guessed))\n",
        "          else:\n",
        "            number_of_tries +=1\n",
        "            if not is_it_there(secret,guess):\n",
        "              print(\"Bad Guess\")\n",
        "              letters_guessed.append(guess)\n",
        "              print(getGuessedWord(secret,letters_guessed))\n",
        "            else:\n",
        "              print('Good Guess ')\n",
        "              letters_guessed.append(guess)\n",
        "              print(getGuessedWord(secret,letters_guessed))\n",
        "    Uniq = Uni(secret)\n",
        "    if presence(Uniq,letters_guessed):\n",
        "      break\n",
        "    print('Letters to choose from ' + str(get_available_letters(letters_guessed)))\n",
        "    print('------------------------')\n",
        "    print('You now have ' + str(6 - number_of_tries) + ' tries left')\n",
        "  if presence(Uniq,letters_guessed):\n",
        "    print(\"congratulations you won \")\n",
        "    x = len(Uni(secret))\n",
        "    y = 6 - number_of_tries\n",
        "    score = x * y\n",
        "    print(\"score \" + str(score))\n",
        "  else:\n",
        "    print(\" Unfortunately u ran out of tries \")\n",
        "    print(\"The word i guess was \" + str(secret))"
      ],
      "metadata": {
        "id": "4pFl23hBTdT3"
      },
      "execution_count": null,
      "outputs": []
    },
    {
      "cell_type": "code",
      "source": [
        "hangman_with_hints(secret)"
      ],
      "metadata": {
        "id": "Ch_UVbplPEcr"
      },
      "execution_count": null,
      "outputs": []
    },
    {
      "cell_type": "code",
      "source": [
        "def Uni(string):\n",
        "  r = []\n",
        "  for i in string:\n",
        "    if not i in r:\n",
        "      r.append(i)\n",
        "  return r"
      ],
      "metadata": {
        "id": "GIrYQtXnLb-3"
      },
      "execution_count": null,
      "outputs": []
    },
    {
      "cell_type": "code",
      "source": [
        "  def getGuessedWord(secret,list):\n",
        "    S = ''\n",
        "    for i in secret:\n",
        "      if i in list:\n",
        "        S += i\n",
        "      else:\n",
        "        S+= \"_ \"\n",
        "    return S"
      ],
      "metadata": {
        "id": "7GGDwohvM_OV"
      },
      "execution_count": null,
      "outputs": []
    },
    {
      "cell_type": "code",
      "source": [
        "word = getGuessedWord(\"tuberculosis\",['t','b','c'])"
      ],
      "metadata": {
        "id": "30qfpDqrMS89"
      },
      "execution_count": null,
      "outputs": []
    },
    {
      "cell_type": "code",
      "source": [
        "import math\n",
        "import random\n",
        "import string\n",
        "\n",
        "vowels = 'aeiou'\n",
        "con = 'bcdfghjklmnpqrstvwxyz'\n",
        "hand_size = 7\n",
        "\n",
        "dictt = {\n",
        "    'a': 1, 'b': 3, 'c': 3, 'd': 2, 'e': 1, 'f': 4, 'g': 2, 'h': 4, 'i': 1, 'j': 8, 'k': 5, 'l': 1, 'm': 3, 'n': 1, 'o': 1, 'p': 3, 'q': 10, 'r': 1, 's': 1, 't': 1, 'u': 1, 'v': 4, 'w': 4, 'x': 8, 'y': 4, 'z': 10\n",
        "}\n",
        "\n",
        "words=[]"
      ],
      "metadata": {
        "id": "uCR6074eAoKd"
      },
      "execution_count": null,
      "outputs": []
    },
    {
      "cell_type": "markdown",
      "source": [
        "Problem set 3"
      ],
      "metadata": {
        "id": "srqnOhK2Gwyo"
      }
    },
    {
      "cell_type": "code",
      "source": [
        "with open('/content/words.txt','r') as f:\n",
        "  for line in f:\n",
        "    words.append(line)\n",
        "Words = []\n",
        "for i in words:\n",
        "  x = i.rstrip(\"\\n\")\n",
        "  Words.append(x)\n",
        "\n"
      ],
      "metadata": {
        "id": "hupSjAOVJWoY"
      },
      "execution_count": null,
      "outputs": []
    },
    {
      "cell_type": "code",
      "source": [
        "def Get_word_score(word ,  n ) :\n",
        "  if word.isalpha() or len(word)==0:\n",
        "    List = []\n",
        "    word = word.lower()\n",
        "    for string in word:\n",
        "      value = dictt.get(string)\n",
        "      List.append(value)\n",
        "    Sum = sum(List)\n",
        "    sec  = 7 * len(word) - 3 * (n - len(word))\n",
        "    if sec > 1:\n",
        "      result = Sum * sec\n",
        "    else:\n",
        "      result = Sum * 1\n",
        "    return result\n",
        "    \n",
        "  else:\n",
        "    print(\"Invalid Entry\")"
      ],
      "metadata": {
        "id": "amfAv-ZXM-UN"
      },
      "execution_count": null,
      "outputs": []
    },
    {
      "cell_type": "code",
      "source": [
        "def test_get_word_score():\n",
        "    \"\"\"\n",
        "    Unit test for get_word_score\n",
        "    \"\"\"\n",
        "    failure=False\n",
        "    # dictionary of words and scores\n",
        "    words = {(\"\", 7):0, (\"it\", 7):2, (\"was\", 7):54, (\"weed\", 6):176,\n",
        "             (\"scored\", 7):351, (\"WaYbILl\", 7):735, (\"Outgnaw\", 7):539,\n",
        "             (\"fork\", 7):209, (\"FORK\", 4):308}\n",
        "    for (word, n) in words.keys():\n",
        "        score = Get_word_score(word, n)\n",
        "        if score != words[(word, n)]:\n",
        "            print(\"FAILURE: test_get_word_score()\")\n",
        "            print(\"\\tExpected\", words[(word, n)], \"points but got '\" + \\\n",
        "                  str(score) + \"' for word '\" + word + \"', n=\" + str(n))\n",
        "            failure=True\n",
        "    if not failure:\n",
        "        print(\"SUCCESS: test_get_word_score()\")\n"
      ],
      "metadata": {
        "id": "BoYXTcSDOOz6"
      },
      "execution_count": null,
      "outputs": []
    },
    {
      "cell_type": "code",
      "source": [
        "test_get_word_score()"
      ],
      "metadata": {
        "colab": {
          "base_uri": "https://localhost:8080/"
        },
        "id": "Y8huw-A2ASwb",
        "outputId": "7be486df-0a69-4bad-991d-a7b29c9ccc06"
      },
      "execution_count": null,
      "outputs": [
        {
          "output_type": "stream",
          "name": "stdout",
          "text": [
            "SUCCESS: test_get_word_score()\n"
          ]
        }
      ]
    },
    {
      "cell_type": "code",
      "source": [
        "Get_word_score('Outgnaw',7)"
      ],
      "metadata": {
        "colab": {
          "base_uri": "https://localhost:8080/"
        },
        "id": "wyVLH2ny6879",
        "outputId": "8bcda33b-01ac-465d-b2e0-6a5d5f706e5a"
      },
      "execution_count": null,
      "outputs": [
        {
          "output_type": "execute_result",
          "data": {
            "text/plain": [
              "539"
            ]
          },
          "metadata": {},
          "execution_count": 8
        }
      ]
    },
    {
      "cell_type": "code",
      "source": [
        "def get_frequency_dict(sequence):\n",
        "  freq = {}\n",
        "  for i in sequence.lower():\n",
        "\n",
        "    freq[i] = freq.get(i,0) + 1\n",
        "  return freq "
      ],
      "metadata": {
        "id": "Jnb3DgaUSs9V"
      },
      "execution_count": null,
      "outputs": []
    },
    {
      "cell_type": "code",
      "source": [
        "def display_hand(hand):\n",
        "    \"\"\"\n",
        "    Displays the letters currently in the hand.\n",
        "\n",
        "    For example:\n",
        "       display_hand({'a':1, 'x':2, 'l':3, 'e':1})\n",
        "    Should print out something like:\n",
        "       a x x l l l e\n",
        "    The order of the letters is unimportant.\n",
        "\n",
        "    hand: dictionary (string -> int)\n",
        "    \"\"\"\n",
        "    for letter in hand.keys():\n",
        "      for j in range(hand[letter]):\n",
        "        print(letter, end=' ')      # print all on the same line\n",
        "    print()                              # print an empty line\n"
      ],
      "metadata": {
        "id": "Aow8CZyJU7Cf"
      },
      "execution_count": null,
      "outputs": []
    },
    {
      "cell_type": "code",
      "source": [
        "def deal_hand(n):\n",
        "    \"\"\"\n",
        "    Returns a random hand containing n lowercase letters.\n",
        "    ceil(n/3) letters in the hand should be VOWELS (note,\n",
        "    ceil(n/3) means the smallest integer not less than n/3).\n",
        "\n",
        "    Hands are represented as dictionaries. The keys are\n",
        "    letters and the values are the number of times the\n",
        "    particular letter is repeated in that hand.\n",
        "\n",
        "    n: int >= 0\n",
        "    returns: dictionary (string -> int)\n",
        "    \"\"\"\n",
        "    hand = {}\n",
        "    x = int(math.ceil(n/3))\n",
        "    for i in range(x):\n",
        "      y = random.choice(vowels)\n",
        "      hand[y] = hand.get(y,0) + 1\n",
        "        \n",
        "    for j in range(x,n):\n",
        "      k = random.choice(con)\n",
        "      hand[k] = hand.get(k,0) + 1\n",
        "    return hand"
      ],
      "metadata": {
        "id": "fyNrH4tYckJM"
      },
      "execution_count": null,
      "outputs": []
    },
    {
      "cell_type": "code",
      "source": [
        "def update_hand(hand, word):\n",
        "    \"\"\"\n",
        "    Does NOT assume that hand contains every letter in word at least as\n",
        "    many times as the letter appears in word. Letters in word that don't\n",
        "    appear in hand should be ignored. Letters that appear in word more times\n",
        "    than in hand should never result in a negative count; instead, set the\n",
        "    count in the returned hand to 0 (or remove the letter from the\n",
        "    dictionary, depending on how your code is structured). \n",
        "\n",
        "    Updates the hand: uses up the letters in the given word\n",
        "    and returns the new hand, without those letters in it.\n",
        "\n",
        "    Has no side effects: does not modify hand.\n",
        "\n",
        "    word: string\n",
        "    hand: dictionary (string -> int)    \n",
        "    returns: dictionary (string -> int)\n",
        "    \"\"\"\n",
        "    word = word.lower()\n",
        "    freq ={}\n",
        "    for i in hand.keys():\n",
        "      j = i.lower()\n",
        "      freq[j] = freq.get(j,0) + hand[i]\n",
        "    for i in word:\n",
        "      for j in freq.keys():\n",
        "        if i == j :\n",
        "          freq[j] = freq.get(j,0) - 1\n",
        "    result = {}\n",
        "    for i in freq.keys():\n",
        "      if freq[i]>0:\n",
        "        result[i] = result.get(i,0) + freq[i]\n",
        "    return result\n",
        "    \n",
        "    \n",
        "\n"
      ],
      "metadata": {
        "id": "dNxAJQ17cuFI"
      },
      "execution_count": null,
      "outputs": []
    },
    {
      "cell_type": "code",
      "source": [
        "Dictx = get_frequency_dict('ABCDABCD')\n",
        "Dicty = get_frequency_dict('jjolwnn')\n",
        "update_hand(Dictx,'abcd')"
      ],
      "metadata": {
        "colab": {
          "base_uri": "https://localhost:8080/"
        },
        "id": "Zf0y4iewZy2f",
        "outputId": "bf8d29f0-d652-4fb4-85ee-b17dafd45756"
      },
      "execution_count": null,
      "outputs": [
        {
          "output_type": "execute_result",
          "data": {
            "text/plain": [
              "{'a': 1, 'b': 1, 'c': 1, 'd': 1}"
            ]
          },
          "metadata": {},
          "execution_count": 13
        }
      ]
    },
    {
      "cell_type": "code",
      "source": [
        "def is_it_there(word , hand):\n",
        "  word = word.lower()\n",
        "  Hand = {}\n",
        "  for i in hand.keys():\n",
        "    j  = i.lower()\n",
        "    Hand[j] = hand[i]\n",
        "  if len(word)==0:\n",
        "    return True\n",
        "  else:\n",
        "    return word[0] in hand.keys() and is_it_there(word[1:],hand)"
      ],
      "metadata": {
        "id": "gqzNvJntO5BC"
      },
      "execution_count": null,
      "outputs": []
    },
    {
      "cell_type": "code",
      "source": [
        "def is_valid_word(word, hand, word_list):\n",
        "  def draft_recursion(listx,listy):\n",
        "    if len(listx)==0:\n",
        "      return False\n",
        "    else:\n",
        "\n",
        "      return listx[0].upper() in listy or draft_recursion(listx[1:],listy)\n",
        "  List = []\n",
        "  for i in 'aeiou':\n",
        "    y = word.replace('*',i)\n",
        "    List.append(y)\n",
        "  second = draft_recursion(List,Words)  \n",
        "  \n",
        "  first = draft(word,hand)\n",
        "  return first and second \n",
        "\n",
        "  "
      ],
      "metadata": {
        "id": "r6LoMCS4dsNj"
      },
      "execution_count": null,
      "outputs": []
    },
    {
      "cell_type": "markdown",
      "source": [
        "works for lower strings ; have to modify to allow for capital letters too \n"
      ],
      "metadata": {
        "id": "9tAst8hozM4j"
      }
    },
    {
      "cell_type": "code",
      "source": [
        "def draft(word,hand):  \n",
        "  Word = word.lower()\n",
        "  word = ''\n",
        "  for i in Word:\n",
        "    if i != '*':\n",
        "      word += i\n",
        "  default = False\n",
        "  Hand = {}\n",
        "  for i in hand.keys():\n",
        "    j  = i.lower()\n",
        "    Hand[j] = hand[i]\n",
        "  List = []\n",
        "  presence = is_it_there(word,hand)\n",
        "  dic = get_frequency_dict(word)\n",
        "  if presence:\n",
        "    for i in dic.keys():\n",
        "      if dic[i] <= Hand[i]:\n",
        "        List.append(1)\n",
        "      else:\n",
        "        List.append(0)\n",
        "    if 0 not in List:\n",
        "      default = True\n",
        "      return default\n",
        "    else:\n",
        "      return default\n",
        "  else:\n",
        "    return default\n",
        "\n"
      ],
      "metadata": {
        "id": "BhUKiXBRS6C7"
      },
      "execution_count": null,
      "outputs": []
    },
    {
      "cell_type": "code",
      "source": [
        "hand = deal_hand(5)\n",
        "display_hand(hand)"
      ],
      "metadata": {
        "colab": {
          "base_uri": "https://localhost:8080/"
        },
        "id": "BE_Dq7j2qRz0",
        "outputId": "451acb0b-11ce-42c0-a1c7-eeb96e45eab4"
      },
      "execution_count": null,
      "outputs": [
        {
          "output_type": "stream",
          "name": "stdout",
          "text": [
            "i * y c v \n"
          ]
        }
      ]
    },
    {
      "cell_type": "code",
      "source": [
        "def deal_hand(n):\n",
        "    \"\"\"\n",
        "    Returns a random hand containing n lowercase letters.\n",
        "    ceil(n/3) letters in the hand should be VOWELS (note,\n",
        "    ceil(n/3) means the smallest integer not less than n/3).\n",
        "\n",
        "    Hands are represented as dictionaries. The keys are\n",
        "    letters and the values are the number of times the\n",
        "    particular letter is repeated in that hand.\n",
        "\n",
        "    n: int >= 0\n",
        "    returns: dictionary (string -> int)\n",
        "    \"\"\"\n",
        "    hand = {}\n",
        "    x = int(math.ceil(n/3))\n",
        "    x = x - 1\n",
        "    for i in range(x):\n",
        "      y = random.choice(vowels)\n",
        "      hand[y] = hand.get(y,0) + 1\n",
        "    hand['*'] = 1  \n",
        "    for j in range(x + 1,n):\n",
        "      k = random.choice(con)\n",
        "      hand[k] = hand.get(k,0) + 1\n",
        "    return hand"
      ],
      "metadata": {
        "id": "Rh4YTouhXV1M"
      },
      "execution_count": null,
      "outputs": []
    },
    {
      "cell_type": "code",
      "source": [
        "def word_and_hand(x,y):\n",
        "  result = True\n",
        "  List = []\n",
        "  for i in x.keys():\n",
        "    if not i in y.keys():\n",
        "      List.append(0)\n",
        "    else:\n",
        "      List.append(1)\n",
        "  if 0 in List:\n",
        "    result = False\n",
        "  return result\n"
      ],
      "metadata": {
        "id": "SIUVarxZY_za"
      },
      "execution_count": null,
      "outputs": []
    },
    {
      "cell_type": "code",
      "source": [
        "def wild_card_hand(hand):\n",
        "  T = []\n",
        "  hand1 = hand.copy()\n",
        "  if '*' in hand1.keys():\n",
        "    hand1.pop('*')\n",
        "    for i in 'aeiou':\n",
        "      Hand = hand1.copy()\n",
        "      if i in Hand.keys():\n",
        "        Hand[i] = Hand[i] + 1\n",
        "      else:\n",
        "        Hand[i] = 1\n",
        "      T.append(Hand)\n",
        "  return T \n",
        "def wild_card_word(word):\n",
        "  word = get_frequency_dict(word)\n",
        "  return wild_card_hand(word)\n"
      ],
      "metadata": {
        "id": "IwxEH_2ecMU2"
      },
      "execution_count": null,
      "outputs": []
    },
    {
      "cell_type": "code",
      "source": [
        "def get_word_score(word,n):\n",
        "  first = 0\n",
        "  word = word.lower()\n",
        "  for i in word:\n",
        "    if  i != '*':\n",
        "      y = dictt[i]\n",
        "      first +=y\n",
        "      \n",
        "  second  = 7 * len(word)-3 *(n - len(word))\n",
        "  \n",
        "  if second > 1:\n",
        "    result = first * second\n",
        "  else:\n",
        "    result = first\n",
        "  return result"
      ],
      "metadata": {
        "id": "KxVePSbE5UXV"
      },
      "execution_count": null,
      "outputs": []
    },
    {
      "cell_type": "code",
      "source": [
        "def calculate_handlen(hand):\n",
        "    \"\"\" \n",
        "    Returns the length (number of letters) in the current hand.\n",
        "    \n",
        "    hand: dictionary (string-> int)\n",
        "    returns: integer\n",
        "    \"\"\"\n",
        "    result = 0\n",
        "    for i in hand.keys():\n",
        "      result += hand[i]\n",
        "    return result "
      ],
      "metadata": {
        "id": "Bkp1m91ZGcNm"
      },
      "execution_count": null,
      "outputs": []
    },
    {
      "cell_type": "code",
      "source": [
        "def substitute_hand(hand, letter):\n",
        "    \"\"\" \n",
        "    Allow the user to replace all copies of one letter in the hand (chosen by user)\n",
        "    with a new letter chosen from the VOWELS and CONSONANTS at random. The new letter\n",
        "    should be different from user's choice, and should not be any of the letters\n",
        "    already in the hand.\n",
        "\n",
        "    If user provide a letter not in the hand, the hand should be the same.\n",
        "\n",
        "    Has no side effects: does not mutate hand.\n",
        "\n",
        "    For example:\n",
        "        substitute_hand({'h':1, 'e':1, 'l':2, 'o':1}, 'l')\n",
        "    might return:\n",
        "        {'h':1, 'e':1, 'o':1, 'x':2} -> if the new letter is 'x'\n",
        "    The new letter should not be 'h', 'e', 'l', or 'o' since those letters were\n",
        "    already in the hand.\n",
        "    \n",
        "    hand: dictionary (string -> int)\n",
        "    letter: string\n",
        "    returns: dictionary (string -> int)\n",
        "    \"\"\"\n",
        "    Letters = con + vowels\n",
        "    s = ''\n",
        "    for i in hand.keys():\n",
        "      s += i\n",
        "    letters = ''\n",
        "    for i in Letters:\n",
        "      if i not in s:\n",
        "        letters += i\n",
        "    print(hand)\n",
        "    for i in hand.keys():\n",
        "      if i == letter:\n",
        "        x = random.choice(letters)\n",
        "        hand[x] = hand[i]\n",
        "        hand.pop(i)\n",
        "    \n",
        "    return hand\n",
        "\n",
        "\n",
        "    "
      ],
      "metadata": {
        "id": "zlqOCzPm3cGA"
      },
      "execution_count": null,
      "outputs": []
    },
    {
      "cell_type": "code",
      "source": [
        "def play_hand(hand,word_list):\n",
        "  res = 0\n",
        "  while len(hand) >0:\n",
        "    n = calculate_handlen(hand)\n",
        "    print(\"Current Hand : \")\n",
        "    display_hand(hand)\n",
        "    \n",
        "    word = input('Enter word, or \"!!\" to indicate that you are finished: ')\n",
        "    if word =='!!':\n",
        "      print('game ends ')\n",
        "      print('Total score : ' + str(res))\n",
        "      break\n",
        "    else:\n",
        "      if is_valid_word(word,hand,word_list):\n",
        "        score = get_word_score(word,n)\n",
        "        res += score\n",
        "        hand = update_hand(hand,word)\n",
        "        print(' Score for current word ' + str(score) )      \n",
        "        print('Total Score ' + str(res) )\n",
        "      else:\n",
        "        print('invalid word , Please choose another word  ')\n",
        "        hand = update_hand(hand,word)\n",
        "        print('Total score  ' + str(res))\n",
        "  if word == \"!!\":\n",
        "    print('end of game  , Total score :  ' + str(res) )\n",
        "    print('-----------------------')\n",
        "  else:\n",
        "    print(' All letters  in hand exhausted')\n",
        "    print('end of game  , Total score :  ' + str(res) )\n",
        "    print('-----------------------')\n",
        "\n",
        "      \n"
      ],
      "metadata": {
        "id": "6c1UqtyDGtdL"
      },
      "execution_count": null,
      "outputs": []
    },
    {
      "cell_type": "code",
      "source": [
        "def play_game(word_list):\n",
        "  num_game = 0\n",
        "  n =int(input( \" Enter hand size\"))\n",
        "  num_hands = int(input(\" Enter number of hands \"))\n",
        "  while num_game <num_hands:\n",
        "    num_game+=1\n",
        "    Hand = deal_hand(n)\n",
        "    display_hand(Hand)\n",
        "    sub = int(input(\" Would you like to substitute a letter in hand : 1 for yes , 0 for no \"))\n",
        "    if sub == 1:\n",
        "\n",
        "      letter = (input('Please enter the letter you would like to switch :'))\n",
        "      Hand = substitute_hand(Hand,letter)\n",
        "      play_hand(Hand,word_list)\n",
        "\n",
        "    else:\n",
        "      play_hand(Hand,word_list)\n",
        "    replay = int(input(' Would you like to replay the hand : 1 for yes , 0 for No '))\n",
        "    if replay==1:\n",
        "      play_hand(Hand,word_list)\n",
        "    else:\n",
        "      pass\n",
        "\n",
        "  if num_game>=num_hands:\n",
        "    print(' Game Limit Reached')\n",
        "\n",
        "\n",
        "\n",
        "\n",
        "\n",
        "\n",
        "\n",
        "    "
      ],
      "metadata": {
        "id": "BjP3gVskufeE"
      },
      "execution_count": null,
      "outputs": []
    },
    {
      "cell_type": "code",
      "source": [
        ""
      ],
      "metadata": {
        "id": "vu5goMGM86GG"
      },
      "execution_count": null,
      "outputs": []
    }
  ]
}