{
  "cells": [
    {
      "cell_type": "code",
      "execution_count": 137,
      "metadata": {
        "id": "IET0Q6vyFIoC"
      },
      "outputs": [],
      "source": [
        "def get_story_string():\n",
        "    \"\"\"\n",
        "    Returns: a story in encrypted text.\n",
        "    \"\"\"\n",
        "    f = open(\"/story.txt\", \"r\")\n",
        "\n",
        "    story = str(f.read())\n",
        "    f.close()\n",
        "    return story"
      ]
    },
    {
      "cell_type": "code",
      "execution_count": 138,
      "metadata": {
        "id": "Risdu7GNgSWC"
      },
      "outputs": [],
      "source": [
        "def get_permutations(word):\n",
        "  if len(word)==1:\n",
        "    return word\n",
        "  else:\n",
        "    perms = get_permutations(word[1:])\n",
        "    char = word[0]\n",
        "    result = []\n",
        "    for perm in perms:\n",
        "      for i in range(len(perm)+1):\n",
        "        result.append(perm[:i]+char+perm[i:])\n",
        "    return result"
      ]
    },
    {
      "cell_type": "code",
      "execution_count": 139,
      "metadata": {
        "id": "2YxYdXp4FR8h"
      },
      "outputs": [],
      "source": [
        "words = []\n",
        "with open('/words.txt','r') as f:\n",
        "  for line in f:\n",
        "    words.append(line)\n",
        "x = words[0]\n",
        "List = x.split(' ')"
      ]
    },
    {
      "cell_type": "code",
      "execution_count": 140,
      "metadata": {
        "colab": {
          "base_uri": "https://localhost:8080/",
          "height": 87
        },
        "id": "2SGjSSheFUXD",
        "outputId": "63709b64-675d-42c2-b8e9-e23c1fb837ec"
      },
      "outputs": [
        {
          "output_type": "execute_result",
          "data": {
            "application/vnd.google.colaboratory.intrinsic+json": {
              "type": "string"
            },
            "text/plain": [
              "'Xoqy Tzcfsm wg o amhvwqoz qvofoqhsf qfsohsr cb hvs gdif ct o acasbh hc vszd qcjsf ob wbgittwqwsbhzm dzobbsr voqy. Vs vog pssb fsuwghsfsr tcf qzoggsg oh AWH hkwqs pstcfs, pih vog fsdcfhsrzm bsjsf doggsr oqzogg. Wh vog pssb hvs hforwhwcb ct hvs fsgwrsbhg ct Sogh Qoadig hc psqcas Xoqy Tzcfsm tcf o tsk bwuvhg soqv msof hc sriqohs wbqcawbu ghirsbhg wb hvs komg, asobg, obr shvwqg ct voqywbu.'"
            ]
          },
          "metadata": {},
          "execution_count": 140
        }
      ],
      "source": [
        "draft = get_story_string()\n",
        "draft"
      ]
    },
    {
      "cell_type": "code",
      "execution_count": 176,
      "metadata": {
        "id": "NiwkS5LAFdMe"
      },
      "outputs": [],
      "source": [
        "def Valid(text):\n",
        "    def presence(x,y):\n",
        "      if len(x)==0:\n",
        "        return []\n",
        "      elif x[0] in y :\n",
        "        return [x[0]] + presence(x[1:],y)\n",
        "      else:\n",
        "        return presence(x[1:],y)\n",
        "    s = 'qwertyuiopasdfghjklzxcvbnm '\n",
        "    S = 'QWERTYUIOPASDFGHJKLZXCVBNM'\n",
        "    res = ''\n",
        "    for i in text:\n",
        "      if i in s or i in S:\n",
        "        res += i \n",
        "        res = res.lower()\n",
        "      else:\n",
        "        res+=' '\n",
        "        res = res.lower() \n",
        "    res = res.split(' ')\n",
        "    return presence(res,List)"
      ]
    },
    {
      "cell_type": "code",
      "execution_count": 142,
      "metadata": {
        "id": "hx_Eba8bFfp_"
      },
      "outputs": [],
      "source": [
        "def dict(value):\n",
        "  s = 'abcdefghijklmnopqrstuvwxyz'\n",
        "  S = s.upper()\n",
        "  x = s+s\n",
        "  y = S + S \n",
        "  dict = {}\n",
        "  for i in range(len(s)):\n",
        "    dict[s[i]]=x[i + value]\n",
        "  for i in range(len(S)):\n",
        "    dict[S[i]]=y[i + value]\n",
        "  return dict"
      ]
    },
    {
      "cell_type": "code",
      "execution_count": 143,
      "metadata": {
        "id": "RdzUn1HCFhVH"
      },
      "outputs": [],
      "source": [
        "def encrypted(text,value):\n",
        "  Dict = dict(value)\n",
        "  res = ''\n",
        "  for i in text:\n",
        "    if i in Dict.keys():\n",
        "      i = Dict[i]\n",
        "      res += i \n",
        "    else:\n",
        "      res += i\n",
        "  return res"
      ]
    },
    {
      "cell_type": "code",
      "execution_count": 144,
      "metadata": {
        "id": "n39QqZ8tJDHm"
      },
      "outputs": [],
      "source": [
        "def decryption(text):\n",
        "  Dict = {}\n",
        "  for i in range(26):\n",
        "    encrypt = encrypted(text , i)\n",
        "    N = len(Valid(encrypt))\n",
        "    Dict[i]=N\n",
        "  shift = Keymax = max(Dict, key= lambda x: Dict[x])\n",
        "  return encrypted(text,shift)\n",
        "    "
      ]
    },
    {
      "cell_type": "code",
      "execution_count": 145,
      "metadata": {
        "id": "FO1hO7I6quMZ"
      },
      "outputs": [],
      "source": [
        "def create_dict(string):\n",
        "  import random\n",
        "  vop = random.choice(get_permutations(string))\n",
        "  vowels_lower = 'aeiou'\n",
        "  z = vowels_lower\n",
        "  vowels_upper = 'AEIOU'\n",
        "  consonants_lower = 'bcdfghjklmnpqrstvwxyz'\n",
        "  consonants_upper = 'BCDFGHJKLMNPQRSTVWXYZ'\n",
        "  consonants_sum = consonants_lower + consonants_upper\n",
        "  dict = {}\n",
        "  for i in vop:\n",
        "    if len(vowels_lower)==0:\n",
        "      pass\n",
        "    elif i in dict.keys():\n",
        "      pass\n",
        "    else:\n",
        "      x = random.choice(vowels_lower)\n",
        "      dict[i]=x\n",
        "      dict[x]=i\n",
        "      y = []\n",
        "      for j in vowels_lower:\n",
        "        if j != x and j != i :\n",
        "          y.append(j)\n",
        "      vowels_lower=y\n",
        "  Dict = dict.copy()\n",
        "  for i in dict.keys():\n",
        "    z = i.upper()\n",
        "    Dict[z]=dict[i].upper()\n",
        "  for i in consonants_sum:\n",
        "    Dict[i]=i\n",
        "  return Dict\n",
        "  \n",
        "\n",
        "    "
      ]
    },
    {
      "cell_type": "code",
      "execution_count": 146,
      "metadata": {
        "id": "kqtcSj3ctNz5"
      },
      "outputs": [],
      "source": [
        "def encrypt(dict):\n",
        "  res = ''\n",
        "  for i in text:\n",
        "    if i in dict.keys():\n",
        "      res+=dict[i]\n",
        "    else:\n",
        "      res+=i \n",
        "  return res"
      ]
    },
    {
      "cell_type": "code",
      "execution_count": 220,
      "metadata": {
        "id": "IpDblvrYNh63"
      },
      "outputs": [],
      "source": [
        "def Dict():\n",
        "  vowels = 'aeiou'\n",
        "  List = get_permutations(vowels)\n",
        "  listx = []\n",
        "  for l in List:\n",
        "    dict = {}\n",
        "    for i,j in zip(vowels,l):\n",
        "      if i not in dict.keys() and j not in dict.values():\n",
        "        dict[i]=j\n",
        "        dict[j]=i\n",
        "    for i in vowels:\n",
        "      if i not in dict.keys():\n",
        "        dict[i]=i\n",
        "    Dict = dict.copy()\n",
        "    for i in dict.keys():\n",
        "      z = i.upper()\n",
        "      Dict[z] = dict[i].upper() \n",
        "    listx.append(Dict)\n",
        "  return listx"
      ]
    },
    {
      "cell_type": "code",
      "source": [
        "def decypher(text):\n",
        "  def encrypt(dict):\n",
        "    res = ''\n",
        "    for i in text:\n",
        "      if i in dict.keys():\n",
        "        res+=dict[i]\n",
        "      else:\n",
        "        res+=i \n",
        "    return res\n",
        "  dict = {}\n",
        "  for i in Dict():\n",
        "    x = encrypt(i)\n",
        "    score = len(Valid(x))\n",
        "    dict[score]=i\n",
        "  dictionary = dict[max(dict.keys())]\n",
        "  return encrypt(dictionary)\n"
      ],
      "metadata": {
        "id": "GbLPWmGVrkcQ"
      },
      "execution_count": 228,
      "outputs": []
    },
    {
      "cell_type": "code",
      "execution_count": 148,
      "metadata": {
        "id": "fGCmeKdiFird"
      },
      "outputs": [],
      "source": [
        "class Message(object):\n",
        "    def __init__(self, text):\n",
        "      self.message_text=text\n",
        "      self.valid_words=Valid(text)\n",
        "    def get_message_text(self):\n",
        "      return self.message_text\n",
        "    def get_valid_words(self):\n",
        "      copy = self.valid_words.copy()\n",
        "      return copy\n",
        "    def build_shift_dict(self, shift):\n",
        "      self.dict = dict(self.shift)\n",
        "      return self.dict\n",
        "    def apply_shift(self, shift):\n",
        "      return encrypted(self.message_text,shift)\n",
        "\n",
        "\n",
        "\n",
        "        "
      ]
    },
    {
      "cell_type": "code",
      "execution_count": 149,
      "metadata": {
        "id": "juFE8UiYFkSt"
      },
      "outputs": [],
      "source": [
        "class PlaintextMessage(Message):\n",
        "  def __init__(self,text,shift):\n",
        "    Message.__init__(self,text)\n",
        "    self.shift = shift\n",
        "  def get_shift(self):\n",
        "    return self.shift\n",
        "  def get_encryption_dict(self):\n",
        "    Dictx = dict(self.shift)\n",
        "    return Dictx.copy() \n",
        "  def get_message_text_encrypted(self):\n",
        "    return encrypted(self.message_text,self.shift)\n",
        "  def change_shift(self, shift):\n",
        "    self.shift = shift\n"
      ]
    },
    {
      "cell_type": "code",
      "execution_count": 150,
      "metadata": {
        "id": "VkSWyoyzFmH1"
      },
      "outputs": [],
      "source": [
        "class CiphertextMessage(Message):\n",
        "    def __init__(self, text):\n",
        "      Message.__init__(self,text)\n",
        "      self.message_text = text\n",
        "      self.valid_words = Valid(text)\n",
        "    def decrypt_message(self):\n",
        "      return decryption(self.message_text)\n",
        "\n",
        "        "
      ]
    },
    {
      "cell_type": "code",
      "execution_count": 153,
      "metadata": {
        "id": "frVi_UywntBg"
      },
      "outputs": [],
      "source": [
        "class SubMessage(object):\n",
        "    def __init__(self, text):\n",
        "      self.message_text = text \n",
        "      self.valid_words = Valid(text)\n",
        "    def get_message_text(self):\n",
        "      return self.message_text\n",
        "    def get_valid_words(self):\n",
        "     return self.valid_words.copy()\n",
        "    def build_transpose_dict(self, vowels_permutation):\n",
        "      self.transpose_dict = create_dict(vowels_permutation)\n",
        "      return self.transpose_dict\n",
        "    def apply_transpose(self, transpose_dict):\n",
        "      res = ''\n",
        "      for i  in self.message_text:\n",
        "        if i in transpose_dict.keys():\n",
        "          res += transpose_dict[i]\n",
        "        else:\n",
        "          res+= i \n",
        "      return res\n",
        "\n"
      ]
    },
    {
      "cell_type": "code",
      "execution_count": 235,
      "metadata": {
        "id": "O8y2he1it3Ej"
      },
      "outputs": [],
      "source": [
        "class EncryptedSubMessage(SubMessage):\n",
        "    def __init__(self, text):\n",
        "      SubMessage.__init__(self,text)\n",
        "    def decrypt_message(self):\n",
        "      def decypher(text):\n",
        "        def encrypt(dict):\n",
        "          res = ''\n",
        "          for i in text:\n",
        "            if i in dict.keys():\n",
        "              res+=dict[i]\n",
        "            else:\n",
        "              res+=i \n",
        "          return res\n",
        "        dict = {}\n",
        "        for i in Dict():\n",
        "          x = encrypt(i)\n",
        "          score = len(Valid(x))\n",
        "          dict[score]=i\n",
        "        dictionary = dict[max(dict.keys())]\n",
        "        return encrypt(dictionary)\n",
        "      return decypher(self.message_text)    \n",
        "\n",
        "    \n"
      ]
    },
    {
      "cell_type": "code",
      "source": [
        "test = SubMessage('Its been an honor to serve you ')"
      ],
      "metadata": {
        "id": "SdzqrPlarxNY"
      },
      "execution_count": 230,
      "outputs": []
    },
    {
      "cell_type": "code",
      "source": [
        "x = test.build_transpose_dict('aeiou')\n",
        "X = test.apply_transpose(x)\n",
        "X"
      ],
      "metadata": {
        "colab": {
          "base_uri": "https://localhost:8080/",
          "height": 35
        },
        "id": "SOS8_6hstCok",
        "outputId": "fb528a4d-7b0c-4139-ba73-7a28f2eaab8e"
      },
      "execution_count": 234,
      "outputs": [
        {
          "output_type": "execute_result",
          "data": {
            "application/vnd.google.colaboratory.intrinsic+json": {
              "type": "string"
            },
            "text/plain": [
              "'Ets biin an honor to sirvi you '"
            ]
          },
          "metadata": {},
          "execution_count": 234
        }
      ]
    },
    {
      "cell_type": "code",
      "source": [
        "y = test.build_transpose_dict('aeiou')"
      ],
      "metadata": {
        "id": "LKPYeoXEtO91"
      },
      "execution_count": 232,
      "outputs": []
    },
    {
      "cell_type": "code",
      "source": [
        "Y = test.apply_transpose(y)\n",
        "Y "
      ],
      "metadata": {
        "colab": {
          "base_uri": "https://localhost:8080/",
          "height": 35
        },
        "id": "GUx2Ad-UtWJW",
        "outputId": "7b51e687-a2b6-4e8a-872c-48e36662e04a"
      },
      "execution_count": 237,
      "outputs": [
        {
          "output_type": "execute_result",
          "data": {
            "application/vnd.google.colaboratory.intrinsic+json": {
              "type": "string"
            },
            "text/plain": [
              "'Uts boon an hener te sorvo yei '"
            ]
          },
          "metadata": {},
          "execution_count": 237
        }
      ]
    },
    {
      "cell_type": "code",
      "source": [
        "Test = EncryptedSubMessage(X)\n",
        "Test.decrypt_message()"
      ],
      "metadata": {
        "colab": {
          "base_uri": "https://localhost:8080/",
          "height": 35
        },
        "id": "gw88XvSqtZ0v",
        "outputId": "41c0f5f5-221a-4313-9f9b-cf6b2794be11"
      },
      "execution_count": 236,
      "outputs": [
        {
          "output_type": "execute_result",
          "data": {
            "application/vnd.google.colaboratory.intrinsic+json": {
              "type": "string"
            },
            "text/plain": [
              "'Its been an honor to serve you '"
            ]
          },
          "metadata": {},
          "execution_count": 236
        }
      ]
    },
    {
      "cell_type": "code",
      "source": [
        "Test2 = EncryptedSubMessage(Y)\n",
        "Test2.decrypt_message()"
      ],
      "metadata": {
        "colab": {
          "base_uri": "https://localhost:8080/",
          "height": 35
        },
        "id": "h7tetNbytukc",
        "outputId": "30900dd1-95fa-4b01-9956-60876e3fb14b"
      },
      "execution_count": 238,
      "outputs": [
        {
          "output_type": "execute_result",
          "data": {
            "application/vnd.google.colaboratory.intrinsic+json": {
              "type": "string"
            },
            "text/plain": [
              "'Its been an honor to serve you '"
            ]
          },
          "metadata": {},
          "execution_count": 238
        }
      ]
    },
    {
      "cell_type": "code",
      "source": [
        ""
      ],
      "metadata": {
        "id": "SwdeEOVquA5Y"
      },
      "execution_count": null,
      "outputs": []
    }
  ],
  "metadata": {
    "colab": {
      "collapsed_sections": [],
      "name": "PS4.ipynb",
      "provenance": []
    },
    "kernelspec": {
      "display_name": "Python 3",
      "name": "python3"
    },
    "language_info": {
      "name": "python"
    }
  },
  "nbformat": 4,
  "nbformat_minor": 0
}